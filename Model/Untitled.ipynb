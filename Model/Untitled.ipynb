{
 "cells": [
  {
   "cell_type": "code",
   "execution_count": null,
   "id": "4bb10ff1-e82b-48fc-af93-a90d9dc6b8d7",
   "metadata": {},
   "outputs": [
    {
     "name": "stderr",
     "output_type": "stream",
     "text": [
      "C:\\Users\\ADMIN\\AppData\\Local\\Programs\\Python\\Python312\\Lib\\site-packages\\torch\\utils\\_pytree.py:185: FutureWarning: optree is installed but the version is too old to support PyTorch Dynamo in C++ pytree. C++ pytree support is disabled. Please consider upgrading optree using `python3 -m pip install --upgrade 'optree>=0.13.0'`.\n",
      "  warnings.warn(\n"
     ]
    },
    {
     "name": "stdout",
     "output_type": "stream",
     "text": [
      "Python Server: Waiting for messages...\n"
     ]
    }
   ],
   "source": [
    "from stable_baselines3 import PPO\n",
    "import zmq\n",
    "import json\n",
    "import pandas as pd\n",
    "import ta  # ใช้ pandas-ta\n",
    "\n",
    "# โหลดโมเดล AI\n",
    "best_model = PPO.load('./best_model2/best_model.zip') #ข้อมูลย้อนหลัง 1 ปี\n",
    "\n",
    "def main():\n",
    "    context = zmq.Context()\n",
    "    socket = context.socket(zmq.REP)\n",
    "    socket.bind(\"tcp://*:5555\")\n",
    "    \n",
    "    print(\"Python Server: Waiting for messages...\")\n",
    "\n",
    "    while True:\n",
    "        message = socket.recv()\n",
    "        message_str = message.decode()\n",
    "\n",
    "        try:\n",
    "            # รองรับ JSON Array\n",
    "            data_list = json.loads(message_str)\n",
    "\n",
    "            # แปลงข้อมูลเข้า DataFrame\n",
    "            df = pd.DataFrame(data_list)\n",
    "\n",
    "            # แปลงคอลัมน์ Time เป็น datetime\n",
    "            df.set_index('Datetime', inplace=True)\n",
    "\n",
    "            # คำนวณ Indicator\n",
    "            df[\"SMA\"] = ta.trend.sma_indicator(df[\"Close\"], window=12)\n",
    "            df[\"RSI\"] = ta.momentum.rsi(df[\"Close\"])\n",
    "            df[\"OBV\"] = ta.volume.on_balance_volume(df[\"Close\"], df[\"Volume\"])\n",
    "            df[\"EMA_9\"] = ta.trend.ema_indicator(df[\"Close\"], window=9)\n",
    "            df[\"EMA_21\"] = ta.trend.ema_indicator(df[\"Close\"], window=21)\n",
    "\n",
    "            # แทนค่า NaN ด้วย 0\n",
    "            df.fillna(0, inplace=True)\n",
    "\n",
    "            # ✅ จำกัดข้อมูลให้เหลือ 12 แท่ง\n",
    "            df_latest = df.tail(12)\n",
    "\n",
    "            # ✅ เลือกเฉพาะ Features ที่โมเดลต้องการ\n",
    "            features = ['Open','High','Low','Close','Volume','Spread','SMA','RSI','OBV']\n",
    "            df_latest = df_latest[features]\n",
    "\n",
    "            # ✅ แปลงเป็น Array 3D ตามที่โมเดลต้องการ\n",
    "            df_latest = df_latest.values.reshape(12, len(features))\n",
    "\n",
    "            # ทำ Prediction\n",
    "            prediction, _ = best_model.predict(df_latest)\n",
    "\n",
    "        except json.JSONDecodeError:\n",
    "            print(\"Error: Invalid JSON format\")\n",
    "            prediction = \"Error\"\n",
    "        except KeyError as e:\n",
    "            print(f\"KeyError: {e}\")\n",
    "            prediction = \"Error\"\n",
    "        except Exception as e:\n",
    "            print(f\"Unexpected error: {e}\")\n",
    "            prediction = \"Error\"\n",
    "\n",
    "\n",
    "        # ตอบกลับไปยัง MT5\n",
    "        socket.send_string(str(prediction))\n",
    "        print(\"signal send: \", str(prediction))\n",
    "\n",
    "        # ✅ ไม่ต้องเก็บข้อมูลไว้ใน DataFrame หลัก → ลบข้อมูลอัตโนมัติหลังพยากรณ์เสร็จ\n",
    "\n",
    "if __name__ == \"__main__\":\n",
    "    main()\n"
   ]
  },
  {
   "cell_type": "code",
   "execution_count": null,
   "id": "1f0ff383-1e8f-4055-8505-9a292bf185a9",
   "metadata": {},
   "outputs": [],
   "source": []
  }
 ],
 "metadata": {
  "kernelspec": {
   "display_name": "Python 3 (ipykernel)",
   "language": "python",
   "name": "python3"
  },
  "language_info": {
   "codemirror_mode": {
    "name": "ipython",
    "version": 3
   },
   "file_extension": ".py",
   "mimetype": "text/x-python",
   "name": "python",
   "nbconvert_exporter": "python",
   "pygments_lexer": "ipython3",
   "version": "3.12.3"
  }
 },
 "nbformat": 4,
 "nbformat_minor": 5
}
